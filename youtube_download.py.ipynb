{
 "cells": [
  {
   "cell_type": "code",
   "execution_count": 9,
   "id": "3523d25f",
   "metadata": {},
   "outputs": [
    {
     "name": "stderr",
     "output_type": "stream",
     "text": [
      "Exception in Tkinter callback\n",
      "Traceback (most recent call last):\n",
      "  File \"D:\\anaconda\\lib\\tkinter\\__init__.py\", line 1892, in __call__\n",
      "    return self.func(*args)\n",
      "  File \"<ipython-input-9-326f468bdfd0>\", line 13, in Downloader\n",
      "    url =YouTube(str(link.get()))\n",
      "  File \"D:\\anaconda\\lib\\site-packages\\pytube\\__main__.py\", line 71, in __init__\n",
      "    self.video_id = extract.video_id(url)\n",
      "  File \"D:\\anaconda\\lib\\site-packages\\pytube\\extract.py\", line 133, in video_id\n",
      "    return regex_search(r\"(?:v=|\\/)([0-9A-Za-z_-]{11}).*\", url, group=1)\n",
      "  File \"D:\\anaconda\\lib\\site-packages\\pytube\\helpers.py\", line 129, in regex_search\n",
      "    raise RegexMatchError(caller=\"regex_search\", pattern=pattern)\n",
      "pytube.exceptions.RegexMatchError: regex_search: could not find match for (?:v=|\\/)([0-9A-Za-z_-]{11}).*\n"
     ]
    }
   ],
   "source": [
    "from tkinter import *\n",
    "from pytube import YouTube\n",
    "root = Tk()\n",
    "root.geometry('500x300')\n",
    "root.resizable(0,0)\n",
    "root.title(\"youtube video downloader\")\n",
    "Label(root,text = 'Youtube Video Downloader', font ='arial 20 bold').pack()\n",
    "link = StringVar()\n",
    "\n",
    "Label(root, text = 'Paste Link Here:', font = 'arial 15 bold').place(x= 160 , y = 60)\n",
    "link_enter = Entry(root, width = 70,textvariable = link).place(x = 32, y = 90)\n",
    "def Downloader():     \n",
    "    url =YouTube(str(link.get()))\n",
    "    video = url.streams.first()\n",
    "    video.download()\n",
    "    Label(root, text = 'DOWNLOADED', font = 'arial 15').place(x= 180 , y = 210)  \n",
    "Button(root,text = 'DOWNLOAD', font = 'arial 15 bold' ,bg = 'pale violet red', padx = 2, command = Downloader).place(x=180 ,y = 150)\n",
    "root.mainloop()\n"
   ]
  },
  {
   "cell_type": "code",
   "execution_count": null,
   "id": "326a04a9",
   "metadata": {},
   "outputs": [],
   "source": []
  }
 ],
 "metadata": {
  "kernelspec": {
   "display_name": "Python 3",
   "language": "python",
   "name": "python3"
  },
  "language_info": {
   "codemirror_mode": {
    "name": "ipython",
    "version": 3
   },
   "file_extension": ".py",
   "mimetype": "text/x-python",
   "name": "python",
   "nbconvert_exporter": "python",
   "pygments_lexer": "ipython3",
   "version": "3.8.8"
  }
 },
 "nbformat": 4,
 "nbformat_minor": 5
}
